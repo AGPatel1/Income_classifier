{
 "cells": [
  {
   "cell_type": "code",
   "execution_count": 1,
   "id": "7617a9c1",
   "metadata": {},
   "outputs": [],
   "source": [
    "import pandas as pd\n",
    "import seaborn as sns\n",
    "import matplotlib.pyplot as plt"
   ]
  },
  {
   "cell_type": "code",
   "execution_count": 2,
   "id": "d5c987a6",
   "metadata": {},
   "outputs": [
    {
     "data": {
      "text/html": [
       "<div>\n",
       "<style scoped>\n",
       "    .dataframe tbody tr th:only-of-type {\n",
       "        vertical-align: middle;\n",
       "    }\n",
       "\n",
       "    .dataframe tbody tr th {\n",
       "        vertical-align: top;\n",
       "    }\n",
       "\n",
       "    .dataframe thead th {\n",
       "        text-align: right;\n",
       "    }\n",
       "</style>\n",
       "<table border=\"1\" class=\"dataframe\">\n",
       "  <thead>\n",
       "    <tr style=\"text-align: right;\">\n",
       "      <th></th>\n",
       "      <th>age</th>\n",
       "      <th>JobType</th>\n",
       "      <th>EdType</th>\n",
       "      <th>maritalstatus</th>\n",
       "      <th>occupation</th>\n",
       "      <th>relationship</th>\n",
       "      <th>race</th>\n",
       "      <th>gender</th>\n",
       "      <th>capitalgain</th>\n",
       "      <th>capitalloss</th>\n",
       "      <th>hoursperweek</th>\n",
       "      <th>nativecountry</th>\n",
       "      <th>SalStat</th>\n",
       "    </tr>\n",
       "  </thead>\n",
       "  <tbody>\n",
       "    <tr>\n",
       "      <th>0</th>\n",
       "      <td>45</td>\n",
       "      <td>Private</td>\n",
       "      <td>HS-grad</td>\n",
       "      <td>Divorced</td>\n",
       "      <td>Adm-clerical</td>\n",
       "      <td>Not-in-family</td>\n",
       "      <td>White</td>\n",
       "      <td>Female</td>\n",
       "      <td>0</td>\n",
       "      <td>0</td>\n",
       "      <td>28</td>\n",
       "      <td>United-States</td>\n",
       "      <td>less than or equal to 50,000</td>\n",
       "    </tr>\n",
       "    <tr>\n",
       "      <th>1</th>\n",
       "      <td>24</td>\n",
       "      <td>Federal-gov</td>\n",
       "      <td>HS-grad</td>\n",
       "      <td>Never-married</td>\n",
       "      <td>Armed-Forces</td>\n",
       "      <td>Own-child</td>\n",
       "      <td>White</td>\n",
       "      <td>Male</td>\n",
       "      <td>0</td>\n",
       "      <td>0</td>\n",
       "      <td>40</td>\n",
       "      <td>United-States</td>\n",
       "      <td>less than or equal to 50,000</td>\n",
       "    </tr>\n",
       "    <tr>\n",
       "      <th>2</th>\n",
       "      <td>44</td>\n",
       "      <td>Private</td>\n",
       "      <td>Some-college</td>\n",
       "      <td>Married-civ-spouse</td>\n",
       "      <td>Prof-specialty</td>\n",
       "      <td>Husband</td>\n",
       "      <td>White</td>\n",
       "      <td>Male</td>\n",
       "      <td>0</td>\n",
       "      <td>0</td>\n",
       "      <td>40</td>\n",
       "      <td>United-States</td>\n",
       "      <td>greater than 50,000</td>\n",
       "    </tr>\n",
       "    <tr>\n",
       "      <th>3</th>\n",
       "      <td>27</td>\n",
       "      <td>Private</td>\n",
       "      <td>9th</td>\n",
       "      <td>Never-married</td>\n",
       "      <td>Craft-repair</td>\n",
       "      <td>Other-relative</td>\n",
       "      <td>White</td>\n",
       "      <td>Male</td>\n",
       "      <td>0</td>\n",
       "      <td>0</td>\n",
       "      <td>40</td>\n",
       "      <td>Mexico</td>\n",
       "      <td>less than or equal to 50,000</td>\n",
       "    </tr>\n",
       "    <tr>\n",
       "      <th>4</th>\n",
       "      <td>20</td>\n",
       "      <td>Private</td>\n",
       "      <td>Some-college</td>\n",
       "      <td>Never-married</td>\n",
       "      <td>Sales</td>\n",
       "      <td>Not-in-family</td>\n",
       "      <td>White</td>\n",
       "      <td>Male</td>\n",
       "      <td>0</td>\n",
       "      <td>0</td>\n",
       "      <td>35</td>\n",
       "      <td>United-States</td>\n",
       "      <td>less than or equal to 50,000</td>\n",
       "    </tr>\n",
       "    <tr>\n",
       "      <th>5</th>\n",
       "      <td>44</td>\n",
       "      <td>Private</td>\n",
       "      <td>HS-grad</td>\n",
       "      <td>Widowed</td>\n",
       "      <td>Exec-managerial</td>\n",
       "      <td>Unmarried</td>\n",
       "      <td>Black</td>\n",
       "      <td>Female</td>\n",
       "      <td>0</td>\n",
       "      <td>0</td>\n",
       "      <td>40</td>\n",
       "      <td>United-States</td>\n",
       "      <td>less than or equal to 50,000</td>\n",
       "    </tr>\n",
       "    <tr>\n",
       "      <th>6</th>\n",
       "      <td>51</td>\n",
       "      <td>Private</td>\n",
       "      <td>HS-grad</td>\n",
       "      <td>Married-civ-spouse</td>\n",
       "      <td>Craft-repair</td>\n",
       "      <td>Husband</td>\n",
       "      <td>Amer-Indian-Eskimo</td>\n",
       "      <td>Male</td>\n",
       "      <td>0</td>\n",
       "      <td>0</td>\n",
       "      <td>40</td>\n",
       "      <td>United-States</td>\n",
       "      <td>less than or equal to 50,000</td>\n",
       "    </tr>\n",
       "    <tr>\n",
       "      <th>7</th>\n",
       "      <td>20</td>\n",
       "      <td>Private</td>\n",
       "      <td>HS-grad</td>\n",
       "      <td>Married-civ-spouse</td>\n",
       "      <td>Machine-op-inspct</td>\n",
       "      <td>Husband</td>\n",
       "      <td>White</td>\n",
       "      <td>Male</td>\n",
       "      <td>0</td>\n",
       "      <td>0</td>\n",
       "      <td>40</td>\n",
       "      <td>United-States</td>\n",
       "      <td>less than or equal to 50,000</td>\n",
       "    </tr>\n",
       "    <tr>\n",
       "      <th>8</th>\n",
       "      <td>17</td>\n",
       "      <td>?</td>\n",
       "      <td>11th</td>\n",
       "      <td>Never-married</td>\n",
       "      <td>?</td>\n",
       "      <td>Own-child</td>\n",
       "      <td>White</td>\n",
       "      <td>Female</td>\n",
       "      <td>0</td>\n",
       "      <td>0</td>\n",
       "      <td>5</td>\n",
       "      <td>United-States</td>\n",
       "      <td>less than or equal to 50,000</td>\n",
       "    </tr>\n",
       "    <tr>\n",
       "      <th>9</th>\n",
       "      <td>19</td>\n",
       "      <td>Private</td>\n",
       "      <td>HS-grad</td>\n",
       "      <td>Never-married</td>\n",
       "      <td>Machine-op-inspct</td>\n",
       "      <td>Own-child</td>\n",
       "      <td>Black</td>\n",
       "      <td>Female</td>\n",
       "      <td>0</td>\n",
       "      <td>0</td>\n",
       "      <td>40</td>\n",
       "      <td>United-States</td>\n",
       "      <td>less than or equal to 50,000</td>\n",
       "    </tr>\n",
       "    <tr>\n",
       "      <th>10</th>\n",
       "      <td>45</td>\n",
       "      <td>Self-emp-inc</td>\n",
       "      <td>Some-college</td>\n",
       "      <td>Married-civ-spouse</td>\n",
       "      <td>Craft-repair</td>\n",
       "      <td>Husband</td>\n",
       "      <td>White</td>\n",
       "      <td>Male</td>\n",
       "      <td>0</td>\n",
       "      <td>0</td>\n",
       "      <td>55</td>\n",
       "      <td>United-States</td>\n",
       "      <td>greater than 50,000</td>\n",
       "    </tr>\n",
       "    <tr>\n",
       "      <th>11</th>\n",
       "      <td>60</td>\n",
       "      <td>Private</td>\n",
       "      <td>HS-grad</td>\n",
       "      <td>Married-civ-spouse</td>\n",
       "      <td>Craft-repair</td>\n",
       "      <td>Husband</td>\n",
       "      <td>White</td>\n",
       "      <td>Male</td>\n",
       "      <td>0</td>\n",
       "      <td>0</td>\n",
       "      <td>40</td>\n",
       "      <td>United-States</td>\n",
       "      <td>greater than 50,000</td>\n",
       "    </tr>\n",
       "    <tr>\n",
       "      <th>12</th>\n",
       "      <td>44</td>\n",
       "      <td>Self-emp-not-inc</td>\n",
       "      <td>HS-grad</td>\n",
       "      <td>Married-civ-spouse</td>\n",
       "      <td>Sales</td>\n",
       "      <td>Wife</td>\n",
       "      <td>White</td>\n",
       "      <td>Female</td>\n",
       "      <td>0</td>\n",
       "      <td>0</td>\n",
       "      <td>40</td>\n",
       "      <td>United-States</td>\n",
       "      <td>greater than 50,000</td>\n",
       "    </tr>\n",
       "    <tr>\n",
       "      <th>13</th>\n",
       "      <td>40</td>\n",
       "      <td>Private</td>\n",
       "      <td>Assoc-voc</td>\n",
       "      <td>Married-civ-spouse</td>\n",
       "      <td>Machine-op-inspct</td>\n",
       "      <td>Husband</td>\n",
       "      <td>Asian-Pac-Islander</td>\n",
       "      <td>Male</td>\n",
       "      <td>0</td>\n",
       "      <td>0</td>\n",
       "      <td>40</td>\n",
       "      <td>United-States</td>\n",
       "      <td>greater than 50,000</td>\n",
       "    </tr>\n",
       "    <tr>\n",
       "      <th>14</th>\n",
       "      <td>30</td>\n",
       "      <td>Private</td>\n",
       "      <td>HS-grad</td>\n",
       "      <td>Married-civ-spouse</td>\n",
       "      <td>Exec-managerial</td>\n",
       "      <td>Wife</td>\n",
       "      <td>White</td>\n",
       "      <td>Female</td>\n",
       "      <td>0</td>\n",
       "      <td>0</td>\n",
       "      <td>40</td>\n",
       "      <td>United-States</td>\n",
       "      <td>less than or equal to 50,000</td>\n",
       "    </tr>\n",
       "    <tr>\n",
       "      <th>15</th>\n",
       "      <td>38</td>\n",
       "      <td>Private</td>\n",
       "      <td>Some-college</td>\n",
       "      <td>Married-civ-spouse</td>\n",
       "      <td>Transport-moving</td>\n",
       "      <td>Husband</td>\n",
       "      <td>Black</td>\n",
       "      <td>Male</td>\n",
       "      <td>0</td>\n",
       "      <td>0</td>\n",
       "      <td>50</td>\n",
       "      <td>United-States</td>\n",
       "      <td>less than or equal to 50,000</td>\n",
       "    </tr>\n",
       "    <tr>\n",
       "      <th>16</th>\n",
       "      <td>23</td>\n",
       "      <td>Private</td>\n",
       "      <td>HS-grad</td>\n",
       "      <td>Married-civ-spouse</td>\n",
       "      <td>Transport-moving</td>\n",
       "      <td>Husband</td>\n",
       "      <td>White</td>\n",
       "      <td>Male</td>\n",
       "      <td>0</td>\n",
       "      <td>0</td>\n",
       "      <td>60</td>\n",
       "      <td>United-States</td>\n",
       "      <td>less than or equal to 50,000</td>\n",
       "    </tr>\n",
       "    <tr>\n",
       "      <th>17</th>\n",
       "      <td>32</td>\n",
       "      <td>?</td>\n",
       "      <td>Some-college</td>\n",
       "      <td>Married-civ-spouse</td>\n",
       "      <td>?</td>\n",
       "      <td>Husband</td>\n",
       "      <td>White</td>\n",
       "      <td>Male</td>\n",
       "      <td>0</td>\n",
       "      <td>0</td>\n",
       "      <td>40</td>\n",
       "      <td>United-States</td>\n",
       "      <td>less than or equal to 50,000</td>\n",
       "    </tr>\n",
       "    <tr>\n",
       "      <th>18</th>\n",
       "      <td>44</td>\n",
       "      <td>Private</td>\n",
       "      <td>Assoc-acdm</td>\n",
       "      <td>Never-married</td>\n",
       "      <td>Farming-fishing</td>\n",
       "      <td>Own-child</td>\n",
       "      <td>White</td>\n",
       "      <td>Male</td>\n",
       "      <td>0</td>\n",
       "      <td>0</td>\n",
       "      <td>40</td>\n",
       "      <td>United-States</td>\n",
       "      <td>less than or equal to 50,000</td>\n",
       "    </tr>\n",
       "    <tr>\n",
       "      <th>19</th>\n",
       "      <td>54</td>\n",
       "      <td>Local-gov</td>\n",
       "      <td>HS-grad</td>\n",
       "      <td>Married-civ-spouse</td>\n",
       "      <td>Transport-moving</td>\n",
       "      <td>Husband</td>\n",
       "      <td>Black</td>\n",
       "      <td>Male</td>\n",
       "      <td>0</td>\n",
       "      <td>0</td>\n",
       "      <td>40</td>\n",
       "      <td>United-States</td>\n",
       "      <td>less than or equal to 50,000</td>\n",
       "    </tr>\n",
       "  </tbody>\n",
       "</table>\n",
       "</div>"
      ],
      "text/plain": [
       "    age            JobType         EdType        maritalstatus  \\\n",
       "0    45            Private        HS-grad             Divorced   \n",
       "1    24        Federal-gov        HS-grad        Never-married   \n",
       "2    44            Private   Some-college   Married-civ-spouse   \n",
       "3    27            Private            9th        Never-married   \n",
       "4    20            Private   Some-college        Never-married   \n",
       "5    44            Private        HS-grad              Widowed   \n",
       "6    51            Private        HS-grad   Married-civ-spouse   \n",
       "7    20            Private        HS-grad   Married-civ-spouse   \n",
       "8    17                  ?           11th        Never-married   \n",
       "9    19            Private        HS-grad        Never-married   \n",
       "10   45       Self-emp-inc   Some-college   Married-civ-spouse   \n",
       "11   60            Private        HS-grad   Married-civ-spouse   \n",
       "12   44   Self-emp-not-inc        HS-grad   Married-civ-spouse   \n",
       "13   40            Private      Assoc-voc   Married-civ-spouse   \n",
       "14   30            Private        HS-grad   Married-civ-spouse   \n",
       "15   38            Private   Some-college   Married-civ-spouse   \n",
       "16   23            Private        HS-grad   Married-civ-spouse   \n",
       "17   32                  ?   Some-college   Married-civ-spouse   \n",
       "18   44            Private     Assoc-acdm        Never-married   \n",
       "19   54          Local-gov        HS-grad   Married-civ-spouse   \n",
       "\n",
       "            occupation     relationship                 race   gender  \\\n",
       "0         Adm-clerical    Not-in-family                White   Female   \n",
       "1         Armed-Forces        Own-child                White     Male   \n",
       "2       Prof-specialty          Husband                White     Male   \n",
       "3         Craft-repair   Other-relative                White     Male   \n",
       "4                Sales    Not-in-family                White     Male   \n",
       "5      Exec-managerial        Unmarried                Black   Female   \n",
       "6         Craft-repair          Husband   Amer-Indian-Eskimo     Male   \n",
       "7    Machine-op-inspct          Husband                White     Male   \n",
       "8                    ?        Own-child                White   Female   \n",
       "9    Machine-op-inspct        Own-child                Black   Female   \n",
       "10        Craft-repair          Husband                White     Male   \n",
       "11        Craft-repair          Husband                White     Male   \n",
       "12               Sales             Wife                White   Female   \n",
       "13   Machine-op-inspct          Husband   Asian-Pac-Islander     Male   \n",
       "14     Exec-managerial             Wife                White   Female   \n",
       "15    Transport-moving          Husband                Black     Male   \n",
       "16    Transport-moving          Husband                White     Male   \n",
       "17                   ?          Husband                White     Male   \n",
       "18     Farming-fishing        Own-child                White     Male   \n",
       "19    Transport-moving          Husband                Black     Male   \n",
       "\n",
       "    capitalgain  capitalloss  hoursperweek   nativecountry  \\\n",
       "0             0            0            28   United-States   \n",
       "1             0            0            40   United-States   \n",
       "2             0            0            40   United-States   \n",
       "3             0            0            40          Mexico   \n",
       "4             0            0            35   United-States   \n",
       "5             0            0            40   United-States   \n",
       "6             0            0            40   United-States   \n",
       "7             0            0            40   United-States   \n",
       "8             0            0             5   United-States   \n",
       "9             0            0            40   United-States   \n",
       "10            0            0            55   United-States   \n",
       "11            0            0            40   United-States   \n",
       "12            0            0            40   United-States   \n",
       "13            0            0            40   United-States   \n",
       "14            0            0            40   United-States   \n",
       "15            0            0            50   United-States   \n",
       "16            0            0            60   United-States   \n",
       "17            0            0            40   United-States   \n",
       "18            0            0            40   United-States   \n",
       "19            0            0            40   United-States   \n",
       "\n",
       "                          SalStat  \n",
       "0    less than or equal to 50,000  \n",
       "1    less than or equal to 50,000  \n",
       "2             greater than 50,000  \n",
       "3    less than or equal to 50,000  \n",
       "4    less than or equal to 50,000  \n",
       "5    less than or equal to 50,000  \n",
       "6    less than or equal to 50,000  \n",
       "7    less than or equal to 50,000  \n",
       "8    less than or equal to 50,000  \n",
       "9    less than or equal to 50,000  \n",
       "10            greater than 50,000  \n",
       "11            greater than 50,000  \n",
       "12            greater than 50,000  \n",
       "13            greater than 50,000  \n",
       "14   less than or equal to 50,000  \n",
       "15   less than or equal to 50,000  \n",
       "16   less than or equal to 50,000  \n",
       "17   less than or equal to 50,000  \n",
       "18   less than or equal to 50,000  \n",
       "19   less than or equal to 50,000  "
      ]
     },
     "execution_count": 2,
     "metadata": {},
     "output_type": "execute_result"
    }
   ],
   "source": [
    "df = pd.read_csv(\"D:\\csv files\\income.csv\")\n",
    "df.head(20)"
   ]
  },
  {
   "cell_type": "code",
   "execution_count": 3,
   "id": "dfae856e",
   "metadata": {},
   "outputs": [
    {
     "name": "stdout",
     "output_type": "stream",
     "text": [
      "<class 'pandas.core.frame.DataFrame'>\n",
      "RangeIndex: 31978 entries, 0 to 31977\n",
      "Data columns (total 13 columns):\n",
      " #   Column         Non-Null Count  Dtype \n",
      "---  ------         --------------  ----- \n",
      " 0   age            31978 non-null  int64 \n",
      " 1   JobType        31978 non-null  object\n",
      " 2   EdType         31978 non-null  object\n",
      " 3   maritalstatus  31978 non-null  object\n",
      " 4   occupation     31978 non-null  object\n",
      " 5   relationship   31978 non-null  object\n",
      " 6   race           31978 non-null  object\n",
      " 7   gender         31978 non-null  object\n",
      " 8   capitalgain    31978 non-null  int64 \n",
      " 9   capitalloss    31978 non-null  int64 \n",
      " 10  hoursperweek   31978 non-null  int64 \n",
      " 11  nativecountry  31978 non-null  object\n",
      " 12  SalStat        31978 non-null  object\n",
      "dtypes: int64(4), object(9)\n",
      "memory usage: 3.2+ MB\n"
     ]
    }
   ],
   "source": [
    "df.info()"
   ]
  },
  {
   "cell_type": "code",
   "execution_count": 4,
   "id": "c40ab984",
   "metadata": {},
   "outputs": [
    {
     "data": {
      "text/html": [
       "<div>\n",
       "<style scoped>\n",
       "    .dataframe tbody tr th:only-of-type {\n",
       "        vertical-align: middle;\n",
       "    }\n",
       "\n",
       "    .dataframe tbody tr th {\n",
       "        vertical-align: top;\n",
       "    }\n",
       "\n",
       "    .dataframe thead th {\n",
       "        text-align: right;\n",
       "    }\n",
       "</style>\n",
       "<table border=\"1\" class=\"dataframe\">\n",
       "  <thead>\n",
       "    <tr style=\"text-align: right;\">\n",
       "      <th></th>\n",
       "      <th>age</th>\n",
       "      <th>capitalgain</th>\n",
       "      <th>capitalloss</th>\n",
       "      <th>hoursperweek</th>\n",
       "    </tr>\n",
       "  </thead>\n",
       "  <tbody>\n",
       "    <tr>\n",
       "      <th>count</th>\n",
       "      <td>31978.000000</td>\n",
       "      <td>31978.000000</td>\n",
       "      <td>31978.000000</td>\n",
       "      <td>31978.000000</td>\n",
       "    </tr>\n",
       "    <tr>\n",
       "      <th>mean</th>\n",
       "      <td>38.579023</td>\n",
       "      <td>1064.360623</td>\n",
       "      <td>86.739352</td>\n",
       "      <td>40.417850</td>\n",
       "    </tr>\n",
       "    <tr>\n",
       "      <th>std</th>\n",
       "      <td>13.662085</td>\n",
       "      <td>7298.596271</td>\n",
       "      <td>401.594301</td>\n",
       "      <td>12.345285</td>\n",
       "    </tr>\n",
       "    <tr>\n",
       "      <th>min</th>\n",
       "      <td>17.000000</td>\n",
       "      <td>0.000000</td>\n",
       "      <td>0.000000</td>\n",
       "      <td>1.000000</td>\n",
       "    </tr>\n",
       "    <tr>\n",
       "      <th>25%</th>\n",
       "      <td>28.000000</td>\n",
       "      <td>0.000000</td>\n",
       "      <td>0.000000</td>\n",
       "      <td>40.000000</td>\n",
       "    </tr>\n",
       "    <tr>\n",
       "      <th>50%</th>\n",
       "      <td>37.000000</td>\n",
       "      <td>0.000000</td>\n",
       "      <td>0.000000</td>\n",
       "      <td>40.000000</td>\n",
       "    </tr>\n",
       "    <tr>\n",
       "      <th>75%</th>\n",
       "      <td>48.000000</td>\n",
       "      <td>0.000000</td>\n",
       "      <td>0.000000</td>\n",
       "      <td>45.000000</td>\n",
       "    </tr>\n",
       "    <tr>\n",
       "      <th>max</th>\n",
       "      <td>90.000000</td>\n",
       "      <td>99999.000000</td>\n",
       "      <td>4356.000000</td>\n",
       "      <td>99.000000</td>\n",
       "    </tr>\n",
       "  </tbody>\n",
       "</table>\n",
       "</div>"
      ],
      "text/plain": [
       "                age   capitalgain   capitalloss  hoursperweek\n",
       "count  31978.000000  31978.000000  31978.000000  31978.000000\n",
       "mean      38.579023   1064.360623     86.739352     40.417850\n",
       "std       13.662085   7298.596271    401.594301     12.345285\n",
       "min       17.000000      0.000000      0.000000      1.000000\n",
       "25%       28.000000      0.000000      0.000000     40.000000\n",
       "50%       37.000000      0.000000      0.000000     40.000000\n",
       "75%       48.000000      0.000000      0.000000     45.000000\n",
       "max       90.000000  99999.000000   4356.000000     99.000000"
      ]
     },
     "execution_count": 4,
     "metadata": {},
     "output_type": "execute_result"
    }
   ],
   "source": [
    "df.describe()"
   ]
  },
  {
   "cell_type": "code",
   "execution_count": 5,
   "id": "bd8ca55e",
   "metadata": {},
   "outputs": [
    {
     "data": {
      "text/plain": [
       "(31978, 13)"
      ]
     },
     "execution_count": 5,
     "metadata": {},
     "output_type": "execute_result"
    }
   ],
   "source": [
    "df.shape"
   ]
  },
  {
   "cell_type": "code",
   "execution_count": 6,
   "id": "771e9d62",
   "metadata": {},
   "outputs": [
    {
     "data": {
      "text/plain": [
       "age              0\n",
       "JobType          0\n",
       "EdType           0\n",
       "maritalstatus    0\n",
       "occupation       0\n",
       "relationship     0\n",
       "race             0\n",
       "gender           0\n",
       "capitalgain      0\n",
       "capitalloss      0\n",
       "hoursperweek     0\n",
       "nativecountry    0\n",
       "SalStat          0\n",
       "dtype: int64"
      ]
     },
     "execution_count": 6,
     "metadata": {},
     "output_type": "execute_result"
    }
   ],
   "source": [
    "df.isnull().sum()"
   ]
  },
  {
   "cell_type": "code",
   "execution_count": 7,
   "id": "4160933b",
   "metadata": {},
   "outputs": [],
   "source": [
    "df = df.drop_duplicates()"
   ]
  },
  {
   "cell_type": "code",
   "execution_count": 8,
   "id": "67d79391",
   "metadata": {},
   "outputs": [
    {
     "data": {
      "text/plain": [
       "(28516, 13)"
      ]
     },
     "execution_count": 8,
     "metadata": {},
     "output_type": "execute_result"
    }
   ],
   "source": [
    "df.shape"
   ]
  },
  {
   "cell_type": "code",
   "execution_count": 9,
   "id": "71c6dad4",
   "metadata": {},
   "outputs": [
    {
     "name": "stdout",
     "output_type": "stream",
     "text": [
      " Private             19214\n",
      " Self-emp-not-inc     2431\n",
      " Local-gov            2014\n",
      " ?                    1605\n",
      " State-gov            1253\n",
      " Self-emp-inc         1049\n",
      " Federal-gov           929\n",
      " Without-pay            14\n",
      " Never-worked            7\n",
      "Name: JobType, dtype: int64\n",
      " \n",
      " HS-grad         8754\n",
      " Some-college    6275\n",
      " Bachelors       4666\n",
      " Masters         1604\n",
      " Assoc-voc       1315\n",
      " 11th            1048\n",
      " Assoc-acdm      1041\n",
      " 10th             855\n",
      " 7th-8th          610\n",
      " Prof-school      549\n",
      " 9th              499\n",
      " 12th             398\n",
      " Doctorate        379\n",
      " 5th-6th          313\n",
      " 1st-4th          161\n",
      " Preschool         49\n",
      "Name: EdType, dtype: int64\n",
      " \n",
      " Married-civ-spouse       12966\n",
      " Never-married             8980\n",
      " Divorced                  4188\n",
      " Separated                  994\n",
      " Widowed                    968\n",
      " Married-spouse-absent      397\n",
      " Married-AF-spouse           23\n",
      "Name: maritalstatus, dtype: int64\n",
      " \n",
      " Prof-specialty       3783\n",
      " Exec-managerial      3646\n",
      " Adm-clerical         3291\n",
      " Craft-repair         3229\n",
      " Sales                3205\n",
      " Other-service        2914\n",
      " Machine-op-inspct    1666\n",
      " ?                    1612\n",
      " Transport-moving     1420\n",
      " Handlers-cleaners    1159\n",
      " Farming-fishing       957\n",
      " Tech-support          858\n",
      " Protective-serv       626\n",
      " Priv-house-serv       141\n",
      " Armed-Forces            9\n",
      "Name: occupation, dtype: int64\n",
      " \n",
      " Husband           11261\n",
      " Not-in-family      7536\n",
      " Own-child          4034\n",
      " Unmarried          3255\n",
      " Wife               1494\n",
      " Other-relative      936\n",
      "Name: relationship, dtype: int64\n",
      " \n",
      " White                 24054\n",
      " Black                  2943\n",
      " Asian-Pac-Islander      955\n",
      " Amer-Indian-Eskimo      311\n",
      " Other                   253\n",
      "Name: race, dtype: int64\n",
      " \n",
      " Male      18829\n",
      " Female     9687\n",
      "Name: gender, dtype: int64\n",
      " \n",
      " United-States                 25721\n",
      " Mexico                          633\n",
      " Philippines                     198\n",
      " Germany                         137\n",
      " Canada                          121\n",
      " Puerto-Rico                     114\n",
      " El-Salvador                     106\n",
      " India                           100\n",
      " Cuba                             95\n",
      " England                          90\n",
      " Jamaica                          81\n",
      " South                            80\n",
      " China                            75\n",
      " Italy                            73\n",
      " Dominican-Republic               70\n",
      " Vietnam                          67\n",
      " Guatemala                        62\n",
      " Japan                            62\n",
      " Poland                           60\n",
      " Columbia                         59\n",
      " Taiwan                           51\n",
      " Haiti                            44\n",
      " Iran                             43\n",
      " Portugal                         37\n",
      " Nicaragua                        34\n",
      " Peru                             31\n",
      " Greece                           29\n",
      " France                           29\n",
      " Ecuador                          28\n",
      " Ireland                          23\n",
      " Hong                             20\n",
      " Trinadad&Tobago                  19\n",
      " Cambodia                         19\n",
      " Laos                             18\n",
      " Thailand                         18\n",
      " Yugoslavia                       16\n",
      " Outlying-US(Guam-USVI-etc)       14\n",
      " Hungary                          13\n",
      " Honduras                         13\n",
      " Scotland                         12\n",
      " Holand-Netherlands                1\n",
      "Name: nativecountry, dtype: int64\n",
      " \n",
      " less than or equal to 50,000    21451\n",
      " greater than 50,000              7065\n",
      "Name: SalStat, dtype: int64\n",
      " \n"
     ]
    }
   ],
   "source": [
    "cat_cols = df.drop([\"age\",\"capitalgain\",\"capitalloss\",\"hoursperweek\"],axis = 1)\n",
    "for i in cat_cols.columns:\n",
    "    print(cat_cols[i].value_counts())\n",
    "    print(\" \")"
   ]
  },
  {
   "cell_type": "code",
   "execution_count": 10,
   "id": "260610ee",
   "metadata": {},
   "outputs": [],
   "source": [
    "df = df.replace(r'[?]', float('NaN'),regex = True)\n",
    "df = df.dropna().reset_index(drop = True)"
   ]
  },
  {
   "cell_type": "code",
   "execution_count": 11,
   "id": "4a46ef77",
   "metadata": {},
   "outputs": [
    {
     "data": {
      "text/plain": [
       "<AxesSubplot:xlabel='gender', ylabel='count'>"
      ]
     },
     "execution_count": 11,
     "metadata": {},
     "output_type": "execute_result"
    },
    {
     "data": {
      "image/png": "[encoded data removed]",
      "text/plain": [
       "<Figure size 648x432 with 1 Axes>"
      ]
     },
     "metadata": {
      "needs_background": "light"
     },
     "output_type": "display_data"
    }
   ],
   "source": [
    "plt.figure(figsize = (9,6))\n",
    "sns.countplot(x = \"gender\", hue = \"SalStat\",data = df)"
   ]
  },
  {
   "cell_type": "code",
   "execution_count": 12,
   "id": "7aeb3dc4",
   "metadata": {
    "scrolled": false
   },
   "outputs": [
    {
     "data": {
      "text/plain": [
       "<AxesSubplot:xlabel='relationship', ylabel='count'>"
      ]
     },
     "execution_count": 12,
     "metadata": {},
     "output_type": "execute_result"
    },
    {
     "data": {
      "image/png": "[encoded data removed]",
      "text/plain": [
       "<Figure size 864x432 with 1 Axes>"
      ]
     },
     "metadata": {
      "needs_background": "light"
     },
     "output_type": "display_data"
    }
   ],
   "source": [
    "plt.figure(figsize = (12,6))\n",
    "sns.countplot(x = \"relationship\" , hue = \"SalStat\" , data = df)"
   ]
  },
  {
   "cell_type": "code",
   "execution_count": 13,
   "id": "da4cb53a",
   "metadata": {},
   "outputs": [
    {
     "data": {
      "text/plain": [
       "<AxesSubplot:xlabel='EdType', ylabel='count'>"
      ]
     },
     "execution_count": 13,
     "metadata": {},
     "output_type": "execute_result"
    },
    {
     "data": {
      "image/png": "[encoded data removed]",
      "text/plain": [
       "<Figure size 1296x576 with 1 Axes>"
      ]
     },
     "metadata": {
      "needs_background": "light"
     },
     "output_type": "display_data"
    }
   ],
   "source": [
    "plt.figure(figsize = (18,8))\n",
    "sns.countplot(x = \"EdType\" , hue = \"SalStat\" , data = df)"
   ]
  },
  {
   "cell_type": "code",
   "execution_count": 14,
   "id": "576c6e39",
   "metadata": {},
   "outputs": [
    {
     "data": {
      "text/plain": [
       "<AxesSubplot:xlabel='occupation', ylabel='count'>"
      ]
     },
     "execution_count": 14,
     "metadata": {},
     "output_type": "execute_result"
    },
    {
     "data": {
      "image/png": "[encoded data removed]",
      "text/plain": [
       "<Figure size 1800x720 with 1 Axes>"
      ]
     },
     "metadata": {
      "needs_background": "light"
     },
     "output_type": "display_data"
    }
   ],
   "source": [
    "plt.figure(figsize = (25,10))\n",
    "sns.countplot(x = \"occupation\" , hue = \"SalStat\" , data = df)"
   ]
  },
  {
   "cell_type": "code",
   "execution_count": 15,
   "id": "c57c2d59",
   "metadata": {},
   "outputs": [
    {
     "data": {
      "text/plain": [
       "<AxesSubplot:xlabel='race', ylabel='count'>"
      ]
     },
     "execution_count": 15,
     "metadata": {},
     "output_type": "execute_result"
    },
    {
     "data": {
      "image/png": "[encoded data removed]",
      "text/plain": [
       "<Figure size 864x432 with 1 Axes>"
      ]
     },
     "metadata": {
      "needs_background": "light"
     },
     "output_type": "display_data"
    }
   ],
   "source": [
    "plt.figure(figsize = (12,6))\n",
    "sns.countplot(x = \"race\" , hue = \"SalStat\" , data = df)"
   ]
  },
  {
   "cell_type": "code",
   "execution_count": 16,
   "id": "a8db890f",
   "metadata": {},
   "outputs": [
    {
     "data": {
      "text/plain": [
       "<AxesSubplot:xlabel='JobType', ylabel='count'>"
      ]
     },
     "execution_count": 16,
     "metadata": {},
     "output_type": "execute_result"
    },
    {
     "data": {
      "image/png": "[encoded data removed]",
      "text/plain": [
       "<Figure size 1296x576 with 1 Axes>"
      ]
     },
     "metadata": {
      "needs_background": "light"
     },
     "output_type": "display_data"
    }
   ],
   "source": [
    "plt.figure(figsize = (18,8))\n",
    "sns.countplot(x = \"JobType\" , hue = \"SalStat\" , data = df)"
   ]
  },
  {
   "cell_type": "code",
   "execution_count": 17,
   "id": "5a9a9da2",
   "metadata": {},
   "outputs": [
    {
     "data": {
      "text/plain": [
       "<seaborn.axisgrid.FacetGrid at 0x264f6214f40>"
      ]
     },
     "execution_count": 17,
     "metadata": {},
     "output_type": "execute_result"
    },
    {
     "data": {
      "text/plain": [
       "<Figure size 864x576 with 0 Axes>"
      ]
     },
     "metadata": {},
     "output_type": "display_data"
    },
    {
     "data": {
      "image/png": "[encoded data removed]",
      "text/plain": [
       "<Figure size 539.875x360 with 1 Axes>"
      ]
     },
     "metadata": {
      "needs_background": "light"
     },
     "output_type": "display_data"
    }
   ],
   "source": [
    "plt.figure(figsize = (12,8))\n",
    "sns.displot(x = 'hoursperweek',hue = 'SalStat',data = df,kind = 'kde')"
   ]
  },
  {
   "cell_type": "code",
   "execution_count": 18,
   "id": "c6c61cd1",
   "metadata": {},
   "outputs": [
    {
     "data": {
      "text/plain": [
       "<seaborn.axisgrid.FacetGrid at 0x264f642ffd0>"
      ]
     },
     "execution_count": 18,
     "metadata": {},
     "output_type": "execute_result"
    },
    {
     "data": {
      "text/plain": [
       "<Figure size 864x576 with 0 Axes>"
      ]
     },
     "metadata": {},
     "output_type": "display_data"
    },
    {
     "data": {
      "image/png": "[encoded data removed]",
      "text/plain": [
       "<Figure size 539.875x360 with 1 Axes>"
      ]
     },
     "metadata": {
      "needs_background": "light"
     },
     "output_type": "display_data"
    }
   ],
   "source": [
    "plt.figure(figsize = (12,8))\n",
    "sns.displot(x = 'age',hue = 'SalStat',data = df,kind = 'kde')"
   ]
  },
  {
   "cell_type": "code",
   "execution_count": 21,
   "id": "134b3a49",
   "metadata": {},
   "outputs": [
    {
     "name": "stdout",
     "output_type": "stream",
     "text": [
      "Accuracy: 0.845939416465341\n"
     ]
    }
   ],
   "source": [
    "from sklearn.compose import ColumnTransformer\n",
    "from sklearn.pipeline import Pipeline\n",
    "from sklearn.preprocessing import OneHotEncoder, PowerTransformer\n",
    "from sklearn.decomposition import SparsePCA\n",
    "from sklearn.ensemble import RandomForestClassifier, GradientBoostingClassifier\n",
    "from sklearn.model_selection import train_test_split\n",
    "from sklearn.metrics import accuracy_score\n",
    "import pandas as pd\n",
    "import numpy as np\n",
    "\n",
    "\n",
    "X = df.drop(\"SalStat\", axis=1)\n",
    "y = df[\"SalStat\"]\n",
    "\n",
    "# Define column transformers\n",
    "cat_transformer = Pipeline([\n",
    "    (\"onehot\", OneHotEncoder())\n",
    "])\n",
    "\n",
    "num_transformer = Pipeline([\n",
    "    (\"scaler\", PowerTransformer())\n",
    "])\n",
    "\n",
    "preprocessor = ColumnTransformer([\n",
    "    (\"cat\", cat_transformer, [\"JobType\", \"EdType\", \"occupation\", \"relationship\", \"race\", \"gender\", \"nativecountry\"]),\n",
    "    (\"num\", num_transformer, [\"age\", \"capitalgain\",\"capitalloss\"])\n",
    "])\n",
    "\n",
    "# Define pipeline\n",
    "pipeline = Pipeline([\n",
    "    (\"preprocessor\", preprocessor),\n",
    "    (\"rf\", GradientBoostingClassifier())\n",
    "])\n",
    "\n",
    "# Split data into train and test sets\n",
    "X_train, X_test, y_train, y_test = train_test_split(X, y, test_size=0.2, random_state=42)\n",
    "\n",
    "pipeline.fit(X_train, y_train)\n",
    "\n",
    "# Make predictions on test set\n",
    "y_pred = pipeline.predict(X_test)\n",
    "\n",
    "# Calculate accuracy score\n",
    "accuracy = accuracy_score(y_test, y_pred)\n",
    "print(\"Accuracy:\", accuracy)"
   ]
  },
  {
   "cell_type": "code",
   "execution_count": null,
   "id": "878bde0c",
   "metadata": {},
   "outputs": [],
   "source": []
  },
  {
   "cell_type": "code",
   "execution_count": null,
   "id": "67cc2792",
   "metadata": {},
   "outputs": [],
   "source": []
  }
 ],
 "metadata": {
  "kernelspec": {
   "display_name": "Python 3",
   "language": "python",
   "name": "python3"
  },
  "language_info": {
   "codemirror_mode": {
    "name": "ipython",
    "version": 3
   },
   "file_extension": ".py",
   "mimetype": "text/x-python",
   "name": "python",
   "nbconvert_exporter": "python",
   "pygments_lexer": "ipython3",
   "version": "3.8.8"
  }
 },
 "nbformat": 4,
 "nbformat_minor": 5
}
